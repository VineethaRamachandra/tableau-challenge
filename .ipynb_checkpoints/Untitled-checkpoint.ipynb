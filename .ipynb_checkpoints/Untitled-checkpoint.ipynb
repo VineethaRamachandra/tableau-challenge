{
 "cells": [
  {
   "cell_type": "code",
   "execution_count": 1,
   "id": "6c876b38",
   "metadata": {},
   "outputs": [],
   "source": [
    "# Import the necessary libraries:\n",
    "\n",
    "import pandas as pd\n",
    "import glob"
   ]
  },
  {
   "cell_type": "code",
   "execution_count": 2,
   "id": "85c05994",
   "metadata": {},
   "outputs": [],
   "source": [
    "# Specify the path to the directory containing your CSV files:\n",
    "csv_files_path = \"D:/RUT-DS\\August-HW/tableau-challenge/tableau-challenge/data/\""
   ]
  },
  {
   "cell_type": "code",
   "execution_count": 3,
   "id": "85919fbf",
   "metadata": {},
   "outputs": [],
   "source": [
    "# Use the glob module to get a list of all CSV files in the directory:\n",
    "csv_files = glob.glob(csv_files_path + '*.csv')"
   ]
  },
  {
   "cell_type": "code",
   "execution_count": 5,
   "id": "d62dc885",
   "metadata": {},
   "outputs": [],
   "source": [
    "# Initialize an empty list to store the dataframes:\n",
    "\n",
    "if len(csv_files) == 0:\n",
    "    print(\"No CSV files found in the specified directory.\")\n",
    "else:\n",
    "    dataframes = []\n",
    "    \n",
    "# Loop through the CSV files, read each file into a pandas dataframe, and append it to the list:\n",
    "    for csv_file in csv_files:\n",
    "        df = pd.read_csv(csv_file, low_memory=False)\n",
    "        dataframes.append(df)\n",
    "\n",
    "    if len(dataframes) == 0:\n",
    "        print(\"No dataframes to concatenate.\")\n",
    "    else:\n",
    "        combined_df = pd.concat(dataframes, ignore_index=True)\n",
    "        \n",
    "        # Concatenate the dataframes in the list vertically using pd.concat():\n",
    "        combined_df.to_csv('D:/RUT-DS/August-HW/tableau-challenge/tableau-challenge/combined_data.csv', index=False)\n",
    "        # print(\"Data has been successfully combined and saved.\")\n"
   ]
  },
  {
   "cell_type": "code",
   "execution_count": null,
   "id": "54a0d7b7",
   "metadata": {},
   "outputs": [],
   "source": []
  }
 ],
 "metadata": {
  "kernelspec": {
   "display_name": "Python 3 (ipykernel)",
   "language": "python",
   "name": "python3"
  },
  "language_info": {
   "codemirror_mode": {
    "name": "ipython",
    "version": 3
   },
   "file_extension": ".py",
   "mimetype": "text/x-python",
   "name": "python",
   "nbconvert_exporter": "python",
   "pygments_lexer": "ipython3",
   "version": "3.10.9"
  }
 },
 "nbformat": 4,
 "nbformat_minor": 5
}
